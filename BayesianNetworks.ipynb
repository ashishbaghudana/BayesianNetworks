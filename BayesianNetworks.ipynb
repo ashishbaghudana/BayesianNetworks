{
 "cells": [
  {
   "cell_type": "markdown",
   "metadata": {},
   "source": [
    "# Bayesian Networks using Pomegranate\n",
    "Bayesian networks are a powerful inference tool, in which a set of variables are represented as nodes, and the lack of an edge represents a conditional independence statement between the two variables, and an edge represents a dependence between the two variables. One of the powerful components of a Bayesian network is the ability to infer the values of certain variables, given observed values for another set of variables.\n",
    "\n",
    "## Pomegranate\n",
    "Pomegranate is a Python-based library for creating and infering probabilities from *discete* Bayesian networks. `pygraphviz` helps visualize the network. Feel free to look at the documentation of `pomegranate` at https://readthedocs.org/projects/pomegranate/."
   ]
  },
  {
   "cell_type": "code",
   "execution_count": 1,
   "metadata": {},
   "outputs": [],
   "source": [
    "from pomegranate import BayesianNetwork\n",
    "\n",
    "import numpy\n",
    "import seaborn\n",
    "import time"
   ]
  },
  {
   "cell_type": "code",
   "execution_count": 2,
   "metadata": {},
   "outputs": [
    {
     "name": "stdout",
     "output_type": "stream",
     "text": [
      "Populating the interactive namespace from numpy and matplotlib\n"
     ]
    }
   ],
   "source": [
    "%pylab inline\n",
    "\n",
    "from pylab import rcParams\n",
    "rcParams['figure.figsize'] = 5, 10"
   ]
  },
  {
   "cell_type": "code",
   "execution_count": 3,
   "metadata": {},
   "outputs": [],
   "source": [
    "seaborn.set_style('whitegrid')"
   ]
  },
  {
   "cell_type": "markdown",
   "metadata": {},
   "source": [
    "## Creating a Dummy Dataset\n",
    "\n",
    "The `make_dataset` method below creates a toy dataset with 2000 instances and 7 variables. Instead of keeping the data randomly distributed, we can make connections between the variables by making them linear combinations of other variables.\n",
    "\n",
    "In the function below, we make the following connections.\n",
    "\n",
    "```\n",
    "2 -> 1\n",
    "3 -> 0\n",
    "5 -> (4, 3)\n",
    "6 -> (1, 4, 0)\n",
    "```\n",
    "\n",
    "The goal of the Bayesian network is to automatically infer this network by identifying the root nodes (i.e. nodes that are completely independent of others), and the edges between the nodes (both direct and indirect)."
   ]
  },
  {
   "cell_type": "code",
   "execution_count": 4,
   "metadata": {},
   "outputs": [],
   "source": [
    "def make_dataset():\n",
    "    X = numpy.random.randint(2, size=(2000, 7))\n",
    "    X[:,2] = 3*X[:,1]\n",
    "    X[:,3] = 2*X[:,0]\n",
    "    X[:,5] = X[:,4] + 2*X[:,3]\n",
    "    X[:,6] = 3*X[:,1] + 4*X[:,4] + 8*X[:,0]\n",
    "    return X"
   ]
  },
  {
   "cell_type": "markdown",
   "metadata": {},
   "source": [
    "## Creating the Bayesian Network\n",
    "\n",
    "`BayesianNetwork.from_samples()` is the method used to create a network from a given dataset. Optionally, one can pass in an additional argument to this method detailing which algorithm to use. The default is a greedy algorithm that chooses a topological ordering of the variables, but optimally identifies the best parents for each variable given this ordering.\n",
    "\n",
    "However, it is also possible to select an *exact* algorithm that runs in super-exponential time (which can be reduced to exponential time using Dynamic Programming). Even with several optimizations, Bayesian Networks are not suitable when the number of variables exceed ~25. In this tutorial, we stick with the default algorithm."
   ]
  },
  {
   "cell_type": "code",
   "execution_count": 5,
   "metadata": {},
   "outputs": [
    {
     "data": {
      "image/png": "[encoded data removed]",
      "text/plain": [
       "<matplotlib.figure.Figure at 0x10a7b4748>"
      ]
     },
     "metadata": {},
     "output_type": "display_data"
    }
   ],
   "source": [
    "X = make_dataset()\n",
    "model = BayesianNetwork.from_samples(X)\n",
    "model.plot()"
   ]
  }
 ],
 "metadata": {
  "kernelspec": {
   "display_name": "Python 3",
   "language": "python",
   "name": "python3"
  },
  "language_info": {
   "codemirror_mode": {
    "name": "ipython",
    "version": 3
   },
   "file_extension": ".py",
   "mimetype": "text/x-python",
   "name": "python",
   "nbconvert_exporter": "python",
   "pygments_lexer": "ipython3",
   "version": "3.6.3"
  }
 },
 "nbformat": 4,
 "nbformat_minor": 2
}
